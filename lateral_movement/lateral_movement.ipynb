{
 "cells": [
  {
   "cell_type": "markdown",
   "metadata": {},
   "source": [
    "# Looking for Lateral Movement\n",
    "\n",
    "----\n",
    "\n",
    "*Lateral movement* is a cyberattack pattern that describes how an adversary leverages a single foothold to compromise other systems within a network.\n",
    "Identifying and stopping lateral movement is an important step in controlling the damage from a breach, and also plays a role in forensic analysis of a cyberattack, helping to identify its source and reconstruct what happened.\n",
    "In this notebook, we show how xGT can be used to find evidence of these types of patterns hiding in large data.\n",
    "\n",
    "This notebook is an example of using \n",
    "the vast collection of malicious cyber attack patterns described in the [MITRE ATT&CK Catalog](https://attack.mitre.org/) as a guide to search for evidence of lateral movemement within an enterprise network.\n",
    "\n",
    "For data, we'll be using the [LANL Unified Host and Network Dataset](https://datasets.trovares.com/cyber/LANL/index.html), a set of netflow and host event data collected on an internal Los Alamos National Lab network."
   ]
  },
  {
   "cell_type": "markdown",
   "metadata": {},
   "source": [
    "----\n",
    "## RDP Hijacking\n",
    "\n",
    "There are 17 *lateral movement* techniques presented in the MITRE ATT&CK Catalog.\n",
    "We will consider the *RDP Hijacking* technique presented as [tactic 1076](https://attack.mitre.org/techniques/T1076/).\n",
    "\n",
    "RDP hijacking is actually a family of attacks, each with different characteristics on how to attain the\n",
    "privileges required to perform the RDP Hijacking.\n",
    "The attack broadly looks like this:\n",
    "\n",
    "1. Lateral movement starts from a foothold where an adversary already has gained access. We'll call this host `A`.\n",
    "\n",
    "1. The attacker uses some *privilege escalation* technique to attain SYSTEM privilege.\n",
    "\n",
    "1. The attacker then leverages their SYSTEM privilege to *hijack* as RDP session to\n",
    "[move through a network](https://doublepulsar.com/rdp-hijacking-how-to-hijack-rds-and-remoteapp-sessions-transparently-to-move-through-an-da2a1e73a5f6).\n",
    "The result is to become logged in to another system where the RDP session had been.  We'll call this host `B`.\n",
    "\n",
    "This hijacking action can be repeated to form longer chains of lateral movememt; and these chains\n",
    "can be represented as graph patterns:\n",
    "\n",
    "![rdp_hijack](images/lateral-movement.png)\n"
   ]
  },
  {
   "cell_type": "markdown",
   "metadata": {},
   "source": [
    "----\n",
    "## Privilege Escalation\n",
    "\n",
    "The MITRE ATT&CK Catalog contains 28 different techniques for performing privilege escalation.\n",
    "For our example, we will look for evidence of RDP Hijacking where privilege escalation was carried out using \n",
    "a technique called *Accessibility Features* described as [T1015](https://attack.mitre.org/techniques/T1015/).\n",
    "\n",
    "The astute reader will note that we are looking for only one of 476 (or more) techniques for lateral movement.\n",
    "Each of the others might result in different graph patterns and different queries, but can all be addressed\n",
    "using the same approach described here."
   ]
  },
  {
   "cell_type": "markdown",
   "metadata": {},
   "source": [
    "----\n",
    "## Mapping to a cyber dataset\n",
    "\n",
    "In order to formulate a query, we need to understand the content and structure of our\n",
    "graph.\n",
    "We will work under the assumption that we have both *netflow* and *windows server log* event information.\n",
    "\n",
    "Mapping each of the adversary steps (the number before each edge label in the diagram) to our dataset:\n",
    "\n",
    "1. \"Accessibility Features (*privilege escalation*)\": An adversary modifies the way programs are launched \n",
    "to get a back door into a system.  The following programs can be used for this purpose:\n",
    "    1. `sethc.exe`\n",
    "    1. `utilman.exe`\n",
    "\n",
    "1. \"RDP Session Hijack\":  Once an adversary finds a session to hijack they can do this command:  `c:\\windows\\system32\\tscon.exe [session number to be stolen]`.  We look in our graph for windows log events showing the running of the `tscon.exe` program.\n",
    "\n",
    "1. \"RDP/RDS Netflow\": Logging in to system `B` will leave one or more netflow packets from system `A` to `B` that use the RDP port.\n"
   ]
  },
  {
   "cell_type": "markdown",
   "metadata": {},
   "source": [
    "## Mapping to the LANL dataset\n",
    "\n",
    "Once we understand the pattern we want to find, we need to determine what specifically to look for in the dataset.\n",
    "\n",
    "We first need to understand that the LANL dataset has been modified from its raw form.\n",
    "For example, the anonymization process replaced many of the program names with arbitrary strings such as `Prog123456.exe`.  Also, the program arguments (such as a `/network` option) are not recorded.\n",
    "\n",
    "Given this lack of information, we will emulate a search for the RDP Hijacking lateral movement behavior by picking some actual values present in the LANL data as a proxy to desired programs such as `sethc.exe`.  Here are the mappings:\n",
    "\n",
    " - In steps 1 and 4, we will use the string `Proc336322.exe` as a proxy for the `sethc.exe` program and the string `Proc695356.exe` as a proxy for the `utilman.exe` program.\n",
    " - In steps 2 and 5, we will use the string `Proc249569.exe` as a proxy for the `tscon.exe` program.\n"
   ]
  },
  {
   "cell_type": "markdown",
   "metadata": {},
   "source": [
    "----\n",
    "## Using xGT to perform this search\n",
    "\n",
    "The rest of this notebook demonstrates how to take this LANL data and the search pattern description to do these steps:\n",
    "  1. Ingest the cyber data into xGT\n",
    "  2. Search for all occurrences of this pattern."
   ]
  },
  {
   "cell_type": "code",
   "execution_count": 1,
   "metadata": {
    "scrolled": true
   },
   "outputs": [
    {
     "data": {
      "text/plain": [
       "<xgt.connection.Connection at 0x1116d6f50>"
      ]
     },
     "execution_count": 1,
     "metadata": {},
     "output_type": "execute_result"
    }
   ],
   "source": [
    "import xgt\n",
    "conn = xgt.Connection()\n",
    "conn"
   ]
  },
  {
   "cell_type": "markdown",
   "metadata": {},
   "source": [
    "## Establish Graph Component Schemas\n",
    "\n",
    "We first try to retrieve the graph component schemas from xGT server.\n",
    "If that should fail, we create an empty component (vertex or edge frame) for the missing component."
   ]
  },
  {
   "cell_type": "code",
   "execution_count": 2,
   "metadata": {},
   "outputs": [
    {
     "data": {
      "text/plain": [
       "<xgt.graph.VertexFrame at 0x1122de8d0>"
      ]
     },
     "execution_count": 2,
     "metadata": {},
     "output_type": "execute_result"
    }
   ],
   "source": [
    "try:\n",
    "  devices = conn.get_vertex_frame('Devices')\n",
    "except xgt.XgtNameError:\n",
    "  devices = conn.create_vertex_frame(\n",
    "              name='Devices',\n",
    "              schema=[['device', xgt.TEXT]],\n",
    "              key='device')\n",
    "devices"
   ]
  },
  {
   "cell_type": "code",
   "execution_count": 3,
   "metadata": {},
   "outputs": [
    {
     "data": {
      "text/plain": [
       "<xgt.graph.EdgeFrame at 0x1122ec510>"
      ]
     },
     "execution_count": 3,
     "metadata": {},
     "output_type": "execute_result"
    }
   ],
   "source": [
    "try:\n",
    "  netflow = conn.get_edge_frame('Netflow')\n",
    "except xgt.XgtNameError:\n",
    "  netflow = conn.create_edge_frame(\n",
    "            name='Netflow',\n",
    "            schema=[['epochtime', xgt.INT],\n",
    "                    ['duration', xgt.INT],\n",
    "                    ['srcDevice', xgt.TEXT],\n",
    "                    ['dstDevice', xgt.TEXT],\n",
    "                    ['protocol', xgt.INT],\n",
    "                    ['srcPort', xgt.INT],\n",
    "                    ['dstPort', xgt.INT],\n",
    "                    ['srcPackets', xgt.INT],\n",
    "                    ['dstPackets', xgt.INT],\n",
    "                    ['srcBytes', xgt.INT],\n",
    "                    ['dstBytes', xgt.INT]],\n",
    "            source=devices,\n",
    "            target=devices,\n",
    "            source_key='srcDevice',\n",
    "            target_key='dstDevice')\n",
    "netflow"
   ]
  },
  {
   "cell_type": "markdown",
   "metadata": {},
   "source": [
    "**Edges:** The LANL dataset contains two types of data: netflow and host events. Of the host events recorded, some describe events within a device (e.g., reboots), and some describe events between devices (e.g., login attempts). We'll only be loading the netflow data and in-device events. We call these events \"one-sided\", since we describe them as graph edges from one vertex to itself."
   ]
  },
  {
   "cell_type": "code",
   "execution_count": 4,
   "metadata": {},
   "outputs": [
    {
     "data": {
      "text/plain": [
       "<xgt.graph.EdgeFrame at 0x1122ec450>"
      ]
     },
     "execution_count": 4,
     "metadata": {},
     "output_type": "execute_result"
    }
   ],
   "source": [
    "try:\n",
    "  events1v = conn.get_edge_frame('Events1v')\n",
    "except xgt.XgtNameError:\n",
    "  events1v = conn.create_edge_frame(\n",
    "           name='Events1v',\n",
    "           schema=[['epochtime', xgt.INT],\n",
    "                   ['eventID', xgt.INT],\n",
    "                   ['logHost', xgt.TEXT],\n",
    "                   ['userName', xgt.TEXT],\n",
    "                   ['domainName', xgt.TEXT],\n",
    "                   ['logonID', xgt.INT],\n",
    "                   ['processName', xgt.TEXT],\n",
    "                   ['processID', xgt.INT],\n",
    "                   ['parentProcessName', xgt.TEXT],\n",
    "                   ['parentProcessID', xgt.INT]],\n",
    "           source=devices,\n",
    "           target=devices,\n",
    "           source_key='logHost',\n",
    "           target_key='logHost')\n",
    "events1v"
   ]
  },
  {
   "cell_type": "code",
   "execution_count": 5,
   "metadata": {
    "scrolled": false
   },
   "outputs": [
    {
     "data": {
      "text/plain": [
       "<xgt.graph.EdgeFrame at 0x1122ecf50>"
      ]
     },
     "execution_count": 5,
     "metadata": {},
     "output_type": "execute_result"
    }
   ],
   "source": [
    "try:\n",
    "  events2v = conn.get_edge_frame('Events2v')\n",
    "except xgt.XgtNameError:\n",
    "  events2v = conn.create_edge_frame(\n",
    "           name='Events2v',\n",
    "           schema = [['epochtime',xgt.INT],\n",
    "                     ['eventID',xgt.INT],\n",
    "                     ['logHost',xgt.TEXT],\n",
    "                     ['logonType',xgt.INT],\n",
    "                     ['logonTypeDescription',xgt.TEXT],\n",
    "                     ['userName',xgt.TEXT],\n",
    "                     ['domainName',xgt.TEXT],\n",
    "                     ['logonID',xgt.INT],\n",
    "                     ['subjectUserName',xgt.TEXT],\n",
    "                     ['subjectDomainName',xgt.TEXT],\n",
    "                     ['subjectLogonID',xgt.TEXT],\n",
    "                     ['status',xgt.TEXT],\n",
    "                     ['src',xgt.TEXT],\n",
    "                     ['serviceName',xgt.TEXT],\n",
    "                     ['destination',xgt.TEXT],\n",
    "                     ['authenticationPackage',xgt.TEXT],\n",
    "                     ['failureReason',xgt.TEXT],\n",
    "                     ['processName',xgt.TEXT],\n",
    "                     ['processID',xgt.INT],\n",
    "                     ['parentProcessName',xgt.TEXT],\n",
    "                     ['parentProcessID',xgt.INT]],\n",
    "            source = 'Devices',\n",
    "            target = 'Devices',\n",
    "            source_key = 'src',\n",
    "            target_key = 'logHost')\n",
    "events2v"
   ]
  },
  {
   "cell_type": "code",
   "execution_count": 6,
   "metadata": {
    "scrolled": true
   },
   "outputs": [
    {
     "name": "stdout",
     "output_type": "stream",
     "text": [
      "Devices (vertices): 933,314\n",
      "Netflow (edges): 17,882,795,024\n",
      "Host event 1-vertex (edges): 1,468,936,024\n",
      "Host event 2-vertex (edges): 4,022,436,222\n",
      "Total (edges): 23,374,167,270\n"
     ]
    }
   ],
   "source": [
    "# Utility to print the sizes of data currently in xGT\n",
    "def print_data_summary():\n",
    "  print('Devices (vertices): {:,}'.format(devices.num_vertices))\n",
    "  print('Netflow (edges): {:,}'.format(netflow.num_edges))\n",
    "  print('Host event 1-vertex (edges): {:,}'.format(events1v.num_edges))\n",
    "  print('Host event 2-vertex (edges): {:,}'.format(events2v.num_edges))\n",
    "  print('Total (edges): {:,}'.format(\n",
    "      netflow.num_edges + events1v.num_edges + events2v.num_edges))\n",
    "    \n",
    "print_data_summary()"
   ]
  },
  {
   "cell_type": "markdown",
   "metadata": {},
   "source": [
    "## Load the data\n",
    "\n",
    "If you are already connected to an xGT server with data loaded, this section may be skipped.\n",
    "You may skip ahead to the \"**Utility python functions for interacting with xGT**\" section.\n",
    "\n",
    "**Load the 1-sided host event data:**"
   ]
  },
  {
   "cell_type": "code",
   "execution_count": null,
   "metadata": {},
   "outputs": [],
   "source": [
    "%%time\n",
    "if events1v.num_edges == 0:\n",
    "    urls = [\"https://datasets.trovares.com/LANL/xgt/wls_day-85_1v.csv\"]\n",
    "    # urls = [\"xgtd://wls_day-{:02d}_1v.csv\".format(_) for _ in range(2,91)]\n",
    "    events1v.load(urls)\n",
    "    print_data_summary()"
   ]
  },
  {
   "cell_type": "markdown",
   "metadata": {},
   "source": [
    "**Load the 2-sided host event data:**"
   ]
  },
  {
   "cell_type": "code",
   "execution_count": null,
   "metadata": {},
   "outputs": [],
   "source": [
    "%%time\n",
    "if events2v.num_edges == 0:\n",
    "    urls = [\"https://datasets.trovares.com/LANL/xgt/wls_day-85_2v.csv\"]\n",
    "    # urls = [\"xgtd://wls_day-{:02d}_2v.csv\".format(_) for _ in range(2,91)]\n",
    "    events2v.load(urls)\n",
    "    print_data_summary()"
   ]
  },
  {
   "cell_type": "markdown",
   "metadata": {},
   "source": [
    "**Load the netflow data:**"
   ]
  },
  {
   "cell_type": "code",
   "execution_count": null,
   "metadata": {},
   "outputs": [],
   "source": [
    "%%time\n",
    "if netflow.num_edges == 0:\n",
    "    urls = [\"https://datasets.trovares.com/LANL/xgt/nf_day-85.csv\"]\n",
    "    #urls = [\"xgtd://nf_day-{:02d}.csv\".format(_) for _ in range(2,91)]\n",
    "    netflow.load(urls)\n",
    "    print_data_summary()"
   ]
  },
  {
   "cell_type": "markdown",
   "metadata": {},
   "source": [
    "## Utility python functions for interacting with xGT\n",
    "\n",
    "----\n",
    "\n",
    "Now define some useful functions and get on with the querying ..."
   ]
  },
  {
   "cell_type": "code",
   "execution_count": 7,
   "metadata": {},
   "outputs": [],
   "source": [
    "# Utility function to launch queries and show job number:\n",
    "#   The job number may be useful if a long-running job needs\n",
    "#   to be canceled.\n",
    "\n",
    "def run_query(query, table_name = \"answers\", drop_answer_table=True, show_query=False):\n",
    "    if drop_answer_table:\n",
    "        conn.drop_frame(table_name)\n",
    "    if query[-1] != '\\n':\n",
    "        query += '\\n'\n",
    "    query += 'INTO {}'.format(table_name)\n",
    "    if show_query:\n",
    "        print(\"Query:\\n\" + query)\n",
    "    job = conn.schedule_job(query)\n",
    "    print(\"Launched job {}\".format(job.id))\n",
    "    conn.wait_for_job(job)\n",
    "    table = conn.get_table_frame(table_name)\n",
    "    return table"
   ]
  },
  {
   "cell_type": "markdown",
   "metadata": {},
   "source": [
    "## Pulling out only RDP netflow edges\n",
    "\n",
    "Because of the way LANL has chosen to represent the netflow data, there may be some netflow edges in the *forward* direction where the `dstPort` field indicates RDP (`dstPort = 3389`), and other edges in the *reverse* direction where the `srcPort` field contains 3389.\n",
    "\n",
    "The following section of code pulls out all forward RDP edges and drops them into a new edge frame.\n",
    "It then pulls out all reverse RDP edges, reverses the appropriate fields (i.e., swapping `dst` and `src` versions of the attribute values), and adds these reversed RDP edges to the new edge frame.\n",
    "\n",
    "Note that the edges in this new edge frame connect up with the same set of vertices as the netflow edges.\n",
    "\n",
    "We first generate a new edge frame we call `RDPflow` that has the exact same schema as the netflow edge frame."
   ]
  },
  {
   "cell_type": "code",
   "execution_count": 8,
   "metadata": {},
   "outputs": [
    {
     "data": {
      "text/plain": [
       "<xgt.graph.EdgeFrame at 0x1122c6f50>"
      ]
     },
     "execution_count": 8,
     "metadata": {},
     "output_type": "execute_result"
    }
   ],
   "source": [
    "# Generate a new edge frame for holding only the RDP edges\n",
    "conn.drop_frame('RDPflow')\n",
    "rdpflow = conn.create_edge_frame(\n",
    "            name='RDPflow',\n",
    "            schema=netflow.schema,\n",
    "            source=devices,\n",
    "            target=devices,\n",
    "            source_key='srcDevice',\n",
    "            target_key='dstDevice')\n",
    "rdpflow"
   ]
  },
  {
   "cell_type": "markdown",
   "metadata": {},
   "source": [
    "### Extract forward RDP edges\n",
    "\n",
    "A \"forward\" edge is one where the `dstPort = 3389`.\n",
    "This edge is copied verbatim to the `RDPflow` edge frame."
   ]
  },
  {
   "cell_type": "code",
   "execution_count": 9,
   "metadata": {
    "scrolled": true
   },
   "outputs": [
    {
     "name": "stdout",
     "output_type": "stream",
     "text": [
      "Launched job 20\n",
      "Number of answers: 2,176\n",
      "CPU times: user 23 ms, sys: 11.1 ms, total: 34.1 ms\n",
      "Wall time: 21.5 s\n"
     ]
    }
   ],
   "source": [
    "%%time\n",
    "q = \"\"\"\n",
    "MATCH ()-[edge:Netflow]->()\n",
    "WHERE edge.dstPort=3389\n",
    "MERGE (v0: Devices { device : edge.srcDevice })\n",
    "MERGE (v1: Devices { device : edge.dstDevice })\n",
    "CREATE (v0)-[e:RDPflow {epochtime : edge.epochtime,\n",
    "  duration : edge.duration, protocol : edge.protocol,\n",
    "  srcPort : edge.srcPort, dstPort : edge.dstPort,\n",
    "  srcPackets : edge.srcPackets, dstPackets : edge.dstPackets,\n",
    "  srcBytes : edge.srcBytes, dstBytes : edge.dstBytes}]->(v1)\n",
    "RETURN count(*)\n",
    "\"\"\"\n",
    "data = run_query(q)\n",
    "print('Number of answers: {:,}'.format(data.get_data()[0][0]))"
   ]
  },
  {
   "cell_type": "markdown",
   "metadata": {},
   "source": [
    "### Extract reverse RDP edges\n",
    "\n",
    "A \"reverse\" edge is one where the `srcPort = 3389`.\n",
    "These edges are copied to the `RDPflow` edge frame but **reversed** in transit.\n",
    "The reversal process involves swapping the: `srcDevice` and `dstDevice`;\n",
    "`srcPort` and `dstPort`; `srcPackets` and `dstPackets`; and `srcBytes` and `dstBytes`."
   ]
  },
  {
   "cell_type": "code",
   "execution_count": 10,
   "metadata": {},
   "outputs": [
    {
     "name": "stdout",
     "output_type": "stream",
     "text": [
      "Launched job 23\n",
      "Number of answers: 755,260\n",
      "CPU times: user 26.2 ms, sys: 9.75 ms, total: 36 ms\n",
      "Wall time: 25.1 s\n"
     ]
    }
   ],
   "source": [
    "%%time\n",
    "q = \"\"\"\n",
    "MATCH ()-[edge:Netflow]->()\n",
    "WHERE edge.srcPort=3389\n",
    "MERGE (v0: Devices { device : edge.srcDevice })\n",
    "MERGE (v1: Devices { device : edge.dstDevice })\n",
    "CREATE (v1)-[e:RDPflow {epochtime : edge.epochtime,\n",
    "  duration : edge.duration, protocol : edge.protocol,\n",
    "  srcPort : edge.dstPort, dstPort : edge.srcPort,\n",
    "  srcPackets : edge.dstPackets, dstPackets : edge.srcPackets,\n",
    "  srcBytes : edge.dstBytes, dstBytes : edge.srcBytes}]->(v0)\n",
    "RETURN count(*)\n",
    "\"\"\"\n",
    "data = run_query(q)\n",
    "print('Number of answers: {:,}'.format(data.get_data()[0][0]))"
   ]
  },
  {
   "cell_type": "markdown",
   "metadata": {},
   "source": [
    "### Resulting RDPflow\n",
    "\n",
    "The result of combining these two \"edge-create\" queries is the `RDPflow` edge frame containing only \"forward\" RDP edges.\n",
    "This alternate edge frame holding only RDP edges can be used instead of the generic\n",
    "`Netflow` edge frame where an RDP edge is required in a query."
   ]
  },
  {
   "cell_type": "code",
   "execution_count": 13,
   "metadata": {},
   "outputs": [
    {
     "data": {
      "text/plain": [
       "'RDPflow (edges): 757,436'"
      ]
     },
     "execution_count": 13,
     "metadata": {},
     "output_type": "execute_result"
    }
   ],
   "source": [
    "data=None\n",
    "if rdpflow.num_edges == 0:\n",
    "    print(\"RDPflow is empty\")\n",
    "elif rdpflow.num_edges <= 1000:\n",
    "    data = rdpflow.get_data_pandas()\n",
    "else:\n",
    "    data = 'RDPflow (edges): {:,}'.format(rdpflow.num_edges)\n",
    "data"
   ]
  },
  {
   "cell_type": "code",
   "execution_count": 14,
   "metadata": {},
   "outputs": [
    {
     "name": "stdout",
     "output_type": "stream",
     "text": [
      "Devices (vertices): 933,314\n",
      "Netflow (edges): 17,882,795,024\n",
      "Host event 1-vertex (edges): 1,468,936,024\n",
      "Host event 2-vertex (edges): 4,022,436,222\n",
      "Total (edges): 23,374,167,270\n",
      "RDPflow (edges): 757,436\n"
     ]
    }
   ],
   "source": [
    "# Utility to print the data sizes currently in xGT\n",
    "def print_netflow_data_summary():\n",
    "  print_data_summary()\n",
    "  print('RDPflow (edges): {:,}'.format(rdpflow.num_edges))\n",
    "\n",
    "print_netflow_data_summary()"
   ]
  },
  {
   "cell_type": "markdown",
   "metadata": {},
   "source": [
    "### Building a better query: adding temporal constraints \n",
    "\n",
    "Being more specific about what you're looking for is a good way to both improve performance and cut down on false positives in your results.\n",
    "In our example, there is a causal dependence between the attacker's steps, which means that they must be temporally ordered.\n",
    "So if *t<sub>1</sub>* represents the time at which event 1 takes place, we know that:\n",
    "\n",
    "*t<sub>1</sub>* &le; *t<sub>2</sub>* &le; *t<sub>3</sub>* &le; *t<sub>4</sub>* &le; *t<sub>5</sub>* &le; *t<sub>6</sub>*\n",
    "\n",
    "In addition, since this pattern models intentional lateral movement, we suspect that some of these events will be close together in time.\n",
    "We can narrow the results by setting a maximum time thresholds between specific groups of events:\n",
    "\n",
    " - Between an RDP Hijack (`tscon.exe`) and a subsequent RDP netflow is called the *hijack threshold*\n",
    " - From the initial *privilege escalation* event to the RDP netflow is called the *one_step threshold*\n",
    " - The time allowed between between steps (e.g., the time between RDP1 and RDP2), is called the *between_step threshold*\n",
    "\n",
    "Given some fixed constants for these thresholds, we can impose the following additional constraints:\n",
    "\n",
    " - *t<sub>3</sub>* - *t<sub>2</sub>* &le; *hijack threshold*\n",
    " - *t<sub>3</sub>* - *t<sub>1</sub>* &le; *one_step threshold*\n",
    " - *t<sub>6</sub>* - *t<sub>5</sub>* &le; *hijack threshold*\n",
    " - *t<sub>6</sub>* - *t<sub>4</sub>* &le; *one_step threshold*\n",
    " - *t<sub>3</sub>* - *t<sub>1</sub>* &le; *between_step threshold*\n",
    "\n",
    "We will add all of these onstraints to our query to help focus on just the results we want."
   ]
  },
  {
   "cell_type": "markdown",
   "metadata": {},
   "source": [
    "### Lateral Movement query\n",
    "\n",
    "This query leverages the new `RDPflow` edge frame (and data) to find the proper RDP edges for steps #3 and #6."
   ]
  },
  {
   "cell_type": "code",
   "execution_count": 15,
   "metadata": {
    "scrolled": true
   },
   "outputs": [
    {
     "name": "stdout",
     "output_type": "stream",
     "text": [
      "Launched job 26\n",
      "Number of answers: 57,057\n",
      "CPU times: user 118 ms, sys: 65.8 ms, total: 184 ms\n",
      "Wall time: 6min 32s\n"
     ]
    }
   ],
   "source": [
    "%%time\n",
    "time_threshold_between_step = 3600   # one hour\n",
    "time_threshold_hijack = 180          # three minutes\n",
    "time_threshold_one_step = 480        # eight minutes\n",
    "q = \"\"\"\n",
    "MATCH (A)-[rdp1:RDPflow]->(B)-[rdp2:RDPflow]->(C),\n",
    "      (A)-[hijack1:Events1v]->(A)-[privEsc1:Events1v]->(A),\n",
    "      (B)-[hijack2:Events1v]->(B)-[privEsc2:Events1v]->(B)\n",
    "WHERE A <> B AND B <> C AND A <> C \n",
    "  AND privEsc1.eventID = 4688 \n",
    "  AND (privEsc1.processName = \"Proc336322.exe\" OR privEsc1.processName = \"Proc695356.exe\")\n",
    "  AND hijack1.eventID = 4688 AND hijack1.processName = \"Proc249569.exe\"\n",
    "  AND privEsc2.eventID = 4688 \n",
    "  AND (privEsc2.processName = \"Proc336322.exe\" OR privEsc2.processName = \"Proc695356.exe\")\n",
    "  AND hijack2.eventID = 4688 AND hijack2.processName = \"Proc249569.exe\"\n",
    "\n",
    "  // Check time constraints on the overall pattern\n",
    "  AND rdp1.epochtime <= rdp2.epochtime\n",
    "  AND rdp2.epochtime - rdp1.epochtime < {0}\n",
    "\n",
    "  // Check time constraints on step from A to B\n",
    "  AND privEsc1.epochtime <= hijack1.epochtime\n",
    "  AND hijack1.epochtime <= rdp1.epochtime\n",
    "  AND rdp1.epochtime - hijack1.epochtime < {1}\n",
    "  AND rdp1.epochtime - privEsc1.epochtime < {2}\n",
    "\n",
    "  // Check time constraints on step from B to C\n",
    "  AND privEsc2.epochtime <= hijack2.epochtime\n",
    "  AND hijack2.epochtime <= rdp2.epochtime\n",
    "  AND rdp2.epochtime - hijack2.epochtime < {1}\n",
    "  AND rdp2.epochtime - privEsc2.epochtime < {2}\n",
    "RETURN rdp1.srcDevice, rdp1.dstDevice, rdp1.epochtime, rdp2.dstDevice, rdp2.epochtime\n",
    "\"\"\".format(time_threshold_between_step, time_threshold_hijack, time_threshold_one_step)\n",
    "answer_table = run_query(q)\n",
    "print('Number of answers: {:,}'.format(answer_table.num_rows))"
   ]
  },
  {
   "cell_type": "code",
   "execution_count": 19,
   "metadata": {},
   "outputs": [
    {
     "data": {
      "text/html": [
       "<div>\n",
       "<style scoped>\n",
       "    .dataframe tbody tr th:only-of-type {\n",
       "        vertical-align: middle;\n",
       "    }\n",
       "\n",
       "    .dataframe tbody tr th {\n",
       "        vertical-align: top;\n",
       "    }\n",
       "\n",
       "    .dataframe thead th {\n",
       "        text-align: right;\n",
       "    }\n",
       "</style>\n",
       "<table border=\"1\" class=\"dataframe\">\n",
       "  <thead>\n",
       "    <tr style=\"text-align: right;\">\n",
       "      <th></th>\n",
       "      <th>rdp1_srcDevice</th>\n",
       "      <th>rdp1_dstDevice</th>\n",
       "      <th>rdp1_epochtime</th>\n",
       "      <th>rdp2_dstDevice</th>\n",
       "      <th>rdp2_epochtime</th>\n",
       "    </tr>\n",
       "  </thead>\n",
       "  <tbody>\n",
       "    <tr>\n",
       "      <th>0</th>\n",
       "      <td>ActiveDirectory</td>\n",
       "      <td>EnterpriseAppServer</td>\n",
       "      <td>4345580</td>\n",
       "      <td>Comp866402</td>\n",
       "      <td>4347169</td>\n",
       "    </tr>\n",
       "    <tr>\n",
       "      <th>1</th>\n",
       "      <td>ActiveDirectory</td>\n",
       "      <td>EnterpriseAppServer</td>\n",
       "      <td>4345580</td>\n",
       "      <td>Comp866402</td>\n",
       "      <td>4347169</td>\n",
       "    </tr>\n",
       "    <tr>\n",
       "      <th>2</th>\n",
       "      <td>ActiveDirectory</td>\n",
       "      <td>EnterpriseAppServer</td>\n",
       "      <td>4345580</td>\n",
       "      <td>Comp866402</td>\n",
       "      <td>4347169</td>\n",
       "    </tr>\n",
       "    <tr>\n",
       "      <th>3</th>\n",
       "      <td>ActiveDirectory</td>\n",
       "      <td>EnterpriseAppServer</td>\n",
       "      <td>4345580</td>\n",
       "      <td>Comp866402</td>\n",
       "      <td>4347169</td>\n",
       "    </tr>\n",
       "    <tr>\n",
       "      <th>4</th>\n",
       "      <td>ActiveDirectory</td>\n",
       "      <td>EnterpriseAppServer</td>\n",
       "      <td>4345580</td>\n",
       "      <td>Comp866402</td>\n",
       "      <td>4347169</td>\n",
       "    </tr>\n",
       "    <tr>\n",
       "      <th>5</th>\n",
       "      <td>ActiveDirectory</td>\n",
       "      <td>EnterpriseAppServer</td>\n",
       "      <td>4345580</td>\n",
       "      <td>Comp866402</td>\n",
       "      <td>4347169</td>\n",
       "    </tr>\n",
       "    <tr>\n",
       "      <th>6</th>\n",
       "      <td>ActiveDirectory</td>\n",
       "      <td>EnterpriseAppServer</td>\n",
       "      <td>7732984</td>\n",
       "      <td>Comp866402</td>\n",
       "      <td>7735512</td>\n",
       "    </tr>\n",
       "    <tr>\n",
       "      <th>7</th>\n",
       "      <td>ActiveDirectory</td>\n",
       "      <td>EnterpriseAppServer</td>\n",
       "      <td>7732984</td>\n",
       "      <td>Comp866402</td>\n",
       "      <td>7735512</td>\n",
       "    </tr>\n",
       "    <tr>\n",
       "      <th>8</th>\n",
       "      <td>ActiveDirectory</td>\n",
       "      <td>EnterpriseAppServer</td>\n",
       "      <td>7732984</td>\n",
       "      <td>Comp866402</td>\n",
       "      <td>7735512</td>\n",
       "    </tr>\n",
       "    <tr>\n",
       "      <th>9</th>\n",
       "      <td>ActiveDirectory</td>\n",
       "      <td>EnterpriseAppServer</td>\n",
       "      <td>4345580</td>\n",
       "      <td>Comp866402</td>\n",
       "      <td>4347169</td>\n",
       "    </tr>\n",
       "  </tbody>\n",
       "</table>\n",
       "</div>"
      ],
      "text/plain": [
       "    rdp1_srcDevice       rdp1_dstDevice  rdp1_epochtime rdp2_dstDevice  \\\n",
       "0  ActiveDirectory  EnterpriseAppServer         4345580     Comp866402   \n",
       "1  ActiveDirectory  EnterpriseAppServer         4345580     Comp866402   \n",
       "2  ActiveDirectory  EnterpriseAppServer         4345580     Comp866402   \n",
       "3  ActiveDirectory  EnterpriseAppServer         4345580     Comp866402   \n",
       "4  ActiveDirectory  EnterpriseAppServer         4345580     Comp866402   \n",
       "5  ActiveDirectory  EnterpriseAppServer         4345580     Comp866402   \n",
       "6  ActiveDirectory  EnterpriseAppServer         7732984     Comp866402   \n",
       "7  ActiveDirectory  EnterpriseAppServer         7732984     Comp866402   \n",
       "8  ActiveDirectory  EnterpriseAppServer         7732984     Comp866402   \n",
       "9  ActiveDirectory  EnterpriseAppServer         4345580     Comp866402   \n",
       "\n",
       "   rdp2_epochtime  \n",
       "0         4347169  \n",
       "1         4347169  \n",
       "2         4347169  \n",
       "3         4347169  \n",
       "4         4347169  \n",
       "5         4347169  \n",
       "6         7735512  \n",
       "7         7735512  \n",
       "8         7735512  \n",
       "9         4347169  "
      ]
     },
     "execution_count": 19,
     "metadata": {},
     "output_type": "execute_result"
    }
   ],
   "source": [
    "# retrieve the answer rows to the client in a pandas frame\n",
    "data = answer_table.get_data_pandas()\n",
    "data[0:10]"
   ]
  },
  {
   "cell_type": "code",
   "execution_count": 20,
   "metadata": {},
   "outputs": [
    {
     "data": {
      "text/plain": [
       "u'0.9.65'"
      ]
     },
     "execution_count": 20,
     "metadata": {},
     "output_type": "execute_result"
    }
   ],
   "source": [
    "import graphistry\n",
    "import pandas as pd\n",
    "graphistry.register(key='358bbd304e0e27f60926abde44ee49586cf923add82f912df2fe5c8203c2bd51', api=2)\n",
    "graphistry.__version__"
   ]
  },
  {
   "cell_type": "code",
   "execution_count": 21,
   "metadata": {},
   "outputs": [
    {
     "data": {
      "text/html": [
       "\n",
       "            <iframe id=\"92c2af7c-21d7-4aa7-9030-a4cc741d8e79\" src=\"https://labs.graphistry.com/graph/graph.html?dataset=s3://graphistry.data/pygraphistry/f7e114c000d6d4580789d0a0e08b126f/dataset.json&type=jsonMeta&viztoken=516c87b26418935c25f96a4f5022aa77a2a86dc1&usertag=37803199-pygraphistry-0.9.65&splashAfter=1563320593&info=true\"\n",
       "                    allowfullscreen=\"true\" webkitallowfullscreen=\"true\" mozallowfullscreen=\"true\"\n",
       "                    oallowfullscreen=\"true\" msallowfullscreen=\"true\"\n",
       "                    style=\"width:100%; height:500px; border: 1px solid #DDD\">\n",
       "            </iframe>\n",
       "        \n",
       "            <script>\n",
       "                $(\"#92c2af7c-21d7-4aa7-9030-a4cc741d8e79\").bind('mousewheel', function(e) {\n",
       "                e.preventDefault();\n",
       "                });\n",
       "            </script>\n",
       "        "
      ],
      "text/plain": [
       "<IPython.core.display.HTML object>"
      ]
     },
     "execution_count": 21,
     "metadata": {},
     "output_type": "execute_result"
    }
   ],
   "source": [
    "graphistry.bind(source='rdp1_srcDevice', destination='rdp1_dstDevice').edges(data).plot()"
   ]
  },
  {
   "cell_type": "code",
   "execution_count": null,
   "metadata": {},
   "outputs": [],
   "source": []
  }
 ],
 "metadata": {
  "celltoolbar": "Raw Cell Format",
  "kernelspec": {
   "display_name": "Python 2",
   "language": "python",
   "name": "python2"
  },
  "language_info": {
   "codemirror_mode": {
    "name": "ipython",
    "version": 2
   },
   "file_extension": ".py",
   "mimetype": "text/x-python",
   "name": "python",
   "nbconvert_exporter": "python",
   "pygments_lexer": "ipython2",
   "version": "2.7.16"
  }
 },
 "nbformat": 4,
 "nbformat_minor": 2
}
