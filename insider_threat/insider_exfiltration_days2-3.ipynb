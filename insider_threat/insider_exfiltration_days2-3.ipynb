{
 "cells": [
  {
   "cell_type": "markdown",
   "metadata": {},
   "source": [
    "# Insider Exfiltration\n",
    "\n",
    "----\n",
    "\n",
    "We are looking for this graph pattern in the large data graph referred to as the [LANL Unified Host and Network Dataset](https://datasets.trovares.com/cyber/LANL/index.html), a set of netflow and host event data collected on an internal Los Alamos National Lab network.\n",
    "\n",
    "The LANL dataset consists of:\n",
    "\n",
    "- Netflow data (aggregated and sessionized)\n",
    "- Windows Logging Events - 1: events that involve exactly one device such as *reboot*\n",
    "- Windows Logging Events - 2: events that involve exactly two devices such as *failed authentication attempt from device A to device B*\n",
    " "
   ]
  },
  {
   "cell_type": "markdown",
   "metadata": {},
   "source": [
    "## Motivation for graph pattern\n",
    "\n",
    "\n",
    "This notebook shows one kind of *graph pattern search* following the recommendations of the [Common Sense Guide to Mitigating Insider Threats, Fifth Edition](https://resources.sei.cmu.edu/asset_files/TechnicalReport/2016_005_001_484758.pdf).\n",
    "\n",
    "This graph pattern is motived by the following scenario:\n",
    "\n",
    "- An employee is working with a competitor to exfiltrate sensitive data\n",
    "- They do this by logging in to multiple systems within the enterprise that hold the sensitive data\n",
    "- From each sensitive data store, they launch a program that sends data out to a common exfiltration target\n",
    "\n",
    "This pattern is shown here:\n",
    "\n",
    "<img src=\"images/insider-xfil.png\" alt=\"Insider Exfiltration\" />\n",
    "\n",
    "where:\n",
    "\n",
    "- the red edges from A to B, C, and D, are all *successful authentication* (login) events\n",
    "- the purple edges that are self-loops are all *program start* events\n",
    "- the black edges from B, C, and D to E are all netflow records with high byte counts going to the same destination port at device E.\n",
    "\n"
   ]
  },
  {
   "cell_type": "markdown",
   "metadata": {},
   "source": [
    "----\n",
    "## Using xGT to perform this search\n",
    "\n",
    "The rest of this notebook demonstrates how to take this LANL data and the search pattern description to do these steps:\n",
    "  1. Ingest the cyber data into xGT\n",
    "  2. Search for all occurrences of this pattern."
   ]
  },
  {
   "cell_type": "code",
   "execution_count": 1,
   "metadata": {
    "scrolled": true
   },
   "outputs": [
    {
     "data": {
      "text/plain": [
       "<xgt.connection.Connection at 0x102f04ed0>"
      ]
     },
     "execution_count": 1,
     "metadata": {},
     "output_type": "execute_result"
    }
   ],
   "source": [
    "import xgt\n",
    "conn = xgt.Connection()\n",
    "conn"
   ]
  },
  {
   "cell_type": "markdown",
   "metadata": {},
   "source": [
    "## Establish Graph Component Schemas\n",
    "\n",
    "We first try to retrieve the graph component schemas from xGT server.\n",
    "If that should fail, we create an empty component (vertex or edge frame) for the missing component."
   ]
  },
  {
   "cell_type": "code",
   "execution_count": 2,
   "metadata": {},
   "outputs": [
    {
     "data": {
      "text/plain": [
       "<xgt.graph.VertexFrame at 0x103b11f50>"
      ]
     },
     "execution_count": 2,
     "metadata": {},
     "output_type": "execute_result"
    }
   ],
   "source": [
    "try:\n",
    "  devices = conn.get_vertex_frame('Devices')\n",
    "except xgt.XgtNameError:\n",
    "  devices = conn.create_vertex_frame(\n",
    "              name='Devices',\n",
    "              schema=[['device', xgt.TEXT]],\n",
    "              key='device')\n",
    "devices"
   ]
  },
  {
   "cell_type": "code",
   "execution_count": 3,
   "metadata": {},
   "outputs": [
    {
     "data": {
      "text/plain": [
       "<xgt.graph.EdgeFrame at 0x103b1cc90>"
      ]
     },
     "execution_count": 3,
     "metadata": {},
     "output_type": "execute_result"
    }
   ],
   "source": [
    "try:\n",
    "  netflow = conn.get_edge_frame('Netflow')\n",
    "except xgt.XgtNameError:\n",
    "  netflow = conn.create_edge_frame(\n",
    "            name='Netflow',\n",
    "            schema=[['epochtime', xgt.INT],\n",
    "                    ['duration', xgt.INT],\n",
    "                    ['srcDevice', xgt.TEXT],\n",
    "                    ['dstDevice', xgt.TEXT],\n",
    "                    ['protocol', xgt.INT],\n",
    "                    ['srcPort', xgt.INT],\n",
    "                    ['dstPort', xgt.INT],\n",
    "                    ['srcPackets', xgt.INT],\n",
    "                    ['dstPackets', xgt.INT],\n",
    "                    ['srcBytes', xgt.INT],\n",
    "                    ['dstBytes', xgt.INT]],\n",
    "            source=devices,\n",
    "            target=devices,\n",
    "            source_key='srcDevice',\n",
    "            target_key='dstDevice')\n",
    "netflow"
   ]
  },
  {
   "cell_type": "markdown",
   "metadata": {},
   "source": [
    "**Edges:** The LANL dataset contains two types of data: netflow and host events. Of the host events recorded, some describe events within a device (e.g., reboots), and some describe events between devices (e.g., login attempts). We'll only be loading the netflow data and in-device events. We call these events \"one-sided\", since we describe them as graph edges from one vertex to itself."
   ]
  },
  {
   "cell_type": "code",
   "execution_count": 4,
   "metadata": {},
   "outputs": [
    {
     "data": {
      "text/plain": [
       "<xgt.graph.EdgeFrame at 0x103b1ccd0>"
      ]
     },
     "execution_count": 4,
     "metadata": {},
     "output_type": "execute_result"
    }
   ],
   "source": [
    "try:\n",
    "  events1v = conn.get_edge_frame('Events1v')\n",
    "except xgt.XgtNameError:\n",
    "  events1v = conn.create_edge_frame(\n",
    "           name='Events1v',\n",
    "           schema=[['epochtime', xgt.INT],\n",
    "                   ['eventID', xgt.INT],\n",
    "                   ['logHost', xgt.TEXT],\n",
    "                   ['userName', xgt.TEXT],\n",
    "                   ['domainName', xgt.TEXT],\n",
    "                   ['logonID', xgt.INT],\n",
    "                   ['processName', xgt.TEXT],\n",
    "                   ['processID', xgt.INT],\n",
    "                   ['parentProcessName', xgt.TEXT],\n",
    "                   ['parentProcessID', xgt.INT]],\n",
    "           source=devices,\n",
    "           target=devices,\n",
    "           source_key='logHost',\n",
    "           target_key='logHost')\n",
    "events1v"
   ]
  },
  {
   "cell_type": "code",
   "execution_count": 5,
   "metadata": {
    "scrolled": false
   },
   "outputs": [
    {
     "data": {
      "text/plain": [
       "<xgt.graph.EdgeFrame at 0x103b11d10>"
      ]
     },
     "execution_count": 5,
     "metadata": {},
     "output_type": "execute_result"
    }
   ],
   "source": [
    "try:\n",
    "  events2v = conn.get_edge_frame('Events2v')\n",
    "except xgt.XgtNameError:\n",
    "  events2v = conn.create_edge_frame(\n",
    "           name='Events2v',\n",
    "           schema = [['epochtime',xgt.INT],\n",
    "                     ['eventID',xgt.INT],\n",
    "                     ['logHost',xgt.TEXT],\n",
    "                     ['logonType',xgt.INT],\n",
    "                     ['logonTypeDescription',xgt.TEXT],\n",
    "                     ['userName',xgt.TEXT],\n",
    "                     ['domainName',xgt.TEXT],\n",
    "                     ['logonID',xgt.INT],\n",
    "                     ['subjectUserName',xgt.TEXT],\n",
    "                     ['subjectDomainName',xgt.TEXT],\n",
    "                     ['subjectLogonID',xgt.TEXT],\n",
    "                     ['status',xgt.TEXT],\n",
    "                     ['src',xgt.TEXT],\n",
    "                     ['serviceName',xgt.TEXT],\n",
    "                     ['destination',xgt.TEXT],\n",
    "                     ['authenticationPackage',xgt.TEXT],\n",
    "                     ['failureReason',xgt.TEXT],\n",
    "                     ['processName',xgt.TEXT],\n",
    "                     ['processID',xgt.INT],\n",
    "                     ['parentProcessName',xgt.TEXT],\n",
    "                     ['parentProcessID',xgt.INT]],\n",
    "            source = 'Devices',\n",
    "            target = 'Devices',\n",
    "            source_key = 'src',\n",
    "            target_key = 'logHost')\n",
    "events2v"
   ]
  },
  {
   "cell_type": "code",
   "execution_count": 6,
   "metadata": {
    "scrolled": true
   },
   "outputs": [
    {
     "name": "stdout",
     "output_type": "stream",
     "text": [
      "Devices (vertices): 159,245\n",
      "Netflow (edges): 317,164,045\n",
      "Host event 1-vertex (edges): 33,480,483\n",
      "Host event 2-vertex (edges): 97,716,529\n",
      "Total (edges): 448,361,057\n"
     ]
    }
   ],
   "source": [
    "# Utility to print the sizes of data currently in xGT\n",
    "def print_data_summary():\n",
    "  print('Devices (vertices): {:,}'.format(devices.num_vertices))\n",
    "  print('Netflow (edges): {:,}'.format(netflow.num_edges))\n",
    "  print('Host event 1-vertex (edges): {:,}'.format(events1v.num_edges))\n",
    "  print('Host event 2-vertex (edges): {:,}'.format(events2v.num_edges))\n",
    "  print('Total (edges): {:,}'.format(\n",
    "      netflow.num_edges + events1v.num_edges + events2v.num_edges))\n",
    "    \n",
    "print_data_summary()"
   ]
  },
  {
   "cell_type": "markdown",
   "metadata": {},
   "source": [
    "## Load the data\n",
    "\n",
    "If you are already connected to an xGT server with data loaded, this section may be skipped.\n",
    "You may skip ahead to the \"**Utility python functions for interacting with xGT**\" section.\n",
    "\n",
    "**Load the 1-sided host event data:**"
   ]
  },
  {
   "cell_type": "code",
   "execution_count": null,
   "metadata": {},
   "outputs": [],
   "source": [
    "%%time\n",
    "if events1v.num_edges == 0:\n",
    "    urls = [\"https://datasets.trovares.com/LANL/xgt/wls_day-85_1v.csv\"]\n",
    "    # urls = [\"xgtd://wls_day-{:02d}_1v.csv\".format(_) for _ in range(2,91)]\n",
    "    events1v.load(urls)\n",
    "    print_data_summary()"
   ]
  },
  {
   "cell_type": "markdown",
   "metadata": {},
   "source": [
    "**Load the 2-sided host event data:**"
   ]
  },
  {
   "cell_type": "code",
   "execution_count": null,
   "metadata": {},
   "outputs": [],
   "source": [
    "%%time\n",
    "if events2v.num_edges == 0:\n",
    "    urls = [\"https://datasets.trovares.com/LANL/xgt/wls_day-85_2v.csv\"]\n",
    "    # urls = [\"xgtd://wls_day-{:02d}_2v.csv\".format(_) for _ in range(2,91)]\n",
    "    events2v.load(urls)\n",
    "    print_data_summary()"
   ]
  },
  {
   "cell_type": "markdown",
   "metadata": {},
   "source": [
    "**Load the netflow data:**"
   ]
  },
  {
   "cell_type": "code",
   "execution_count": null,
   "metadata": {},
   "outputs": [],
   "source": [
    "%%time\n",
    "if netflow.num_edges == 0:\n",
    "    urls = [\"https://datasets.trovares.com/LANL/xgt/nf_day-85.csv\"]\n",
    "    #urls = [\"xgtd://nf_day-{:02d}.csv\".format(_) for _ in range(2,91)]\n",
    "    netflow.load(urls)\n",
    "    print_data_summary()"
   ]
  },
  {
   "cell_type": "markdown",
   "metadata": {},
   "source": [
    "## Utility python functions for interacting with xGT\n",
    "\n",
    "----\n",
    "\n",
    "Now define some useful functions and get on with the querying ..."
   ]
  },
  {
   "cell_type": "code",
   "execution_count": 7,
   "metadata": {},
   "outputs": [],
   "source": [
    "# Utility function to launch queries and show job number:\n",
    "#   The job number may be useful if a long-running job needs\n",
    "#   to be canceled.\n",
    "\n",
    "import time\n",
    "def run_query(query, table_name = \"answers\", drop_answer_table=True, show_query=False):\n",
    "    if drop_answer_table:\n",
    "        conn.drop_frame(table_name)\n",
    "    if query[-1] != '\\n':\n",
    "        query += '\\n'\n",
    "    query += 'INTO {}'.format(table_name)\n",
    "    if show_query:\n",
    "        print(\"Query:\\n\" + query)\n",
    "    job = conn.schedule_job(query)\n",
    "    print(\"Launched job {} at time: \".format(job.id, time.asctime()))\n",
    "    conn.wait_for_job(job)\n",
    "    table = conn.get_table_frame(table_name)\n",
    "    return table"
   ]
  },
  {
   "cell_type": "markdown",
   "metadata": {},
   "source": [
    "## Looking for one path\n",
    "\n",
    "This query looks for only one path from A to E (through B)\n"
   ]
  },
  {
   "cell_type": "code",
   "execution_count": 8,
   "metadata": {},
   "outputs": [
    {
     "name": "stdout",
     "output_type": "stream",
     "text": [
      "Launched job 7\n",
      "Number of answers: 2,992,551\n",
      "CPU times: user 25.9 ms, sys: 11.7 ms, total: 37.6 ms\n",
      "Wall time: 21.8 s\n"
     ]
    }
   ],
   "source": [
    "%%time\n",
    "q = \"\"\"\n",
    "MATCH\n",
    "  (E)<-[nf1:Netflow]-(B)<-[login1:Events2v]-(A), (B)<-[prog1:Events1v]-(B)\n",
    "WHERE A <> B AND B <> E AND A <> E\n",
    "  AND login1.eventID = 4624\n",
    "  AND prog1.eventID = 4688\n",
    "  AND nf1.dstBytes > 100000000\n",
    "  // time constraints within each path\n",
    "  AND login1.epochtime < prog1.epochtime\n",
    "  AND prog1.epochtime < nf1.epochtime\n",
    "  AND nf1.epochtime - login1.epochtime <= 30\n",
    "RETURN count(*)\n",
    "\"\"\"\n",
    "data = run_query(q)\n",
    "print('Number of answers: {:,}'.format(data.get_data()[0][0]))"
   ]
  },
  {
   "cell_type": "markdown",
   "metadata": {},
   "source": [
    "## Looking for three paths\n",
    "\n",
    "This query looks for at least three paths from A to E (through B, C, and D)\n",
    "\n",
    "<img src=\"images/insider-xfil.png\" alt=\"Insider Exfiltration\" />"
   ]
  },
  {
   "cell_type": "code",
   "execution_count": 9,
   "metadata": {},
   "outputs": [
    {
     "name": "stdout",
     "output_type": "stream",
     "text": [
      "Launched job 10\n",
      "Number of answers: 1\n",
      "CPU times: user 266 ms, sys: 156 ms, total: 422 ms\n",
      "Wall time: 22min 12s\n"
     ]
    }
   ],
   "source": [
    "%%time\n",
    "q = \"\"\"\n",
    "MATCH\n",
    "  (E)<-[nf1:Netflow]-(B)<-[login1:Events2v]-(A), (B)<-[prog1:Events1v]-(B),\n",
    "  (E)<-[nf2:Netflow]-(C)<-[login2:Events2v]-(A), (C)<-[prog2:Events1v]-(C),\n",
    "  (E)<-[nf3:Netflow]-(D)<-[login3:Events2v]-(A), (D)<-[prog3:Events1v]-(D)\n",
    "WHERE A <> B AND A <> C AND A <> D AND A <> E AND B <> C AND B <> D AND B <> E\n",
    "  AND C <> D AND C <> E AND D <> E\n",
    "  AND login1.eventID = 4624 AND login2.eventID = 4624 AND login3.eventID = 4624 \n",
    "  AND prog1.eventID = 4688 AND prog2.eventID = 4688 AND prog3.eventID = 4688\n",
    "  AND nf1.dstBytes > 100000000 AND nf2.dstBytes > 100000000 AND nf3.dstBytes > 100000000\n",
    "  // constraints across paths\n",
    "  AND login1.epochtime < login2.epochtime\n",
    "  AND login2.epochtime < login3.epochtime\n",
    "  AND login3.epochtime - login1.epochtime < 3600\n",
    "  AND nf1.dstPort = nf2.dstPort AND nf2.dstPort = nf3.dstPort\n",
    "  AND prog1.processName = prog2.processName AND prog2.processName = prog3.processName\n",
    "  // time constraints within each path\n",
    "  AND login1.epochtime < prog1.epochtime\n",
    "  AND prog1.epochtime < nf1.epochtime\n",
    "  AND nf1.epochtime - login1.epochtime <= 30\n",
    "  AND login2.epochtime < prog2.epochtime\n",
    "  AND prog2.epochtime < nf2.epochtime\n",
    "  AND nf2.epochtime - login2.epochtime <= 30\n",
    "  AND login3.epochtime < prog3.epochtime\n",
    "  AND prog3.epochtime < nf3.epochtime\n",
    "  AND nf3.epochtime - login3.epochtime <= 30 \n",
    "RETURN login1.epochtime as time1, login2.epochtime as time2,\n",
    "  login3.epochtime as time3, login3.epochtime - login1.epochtime as interval,\n",
    "  nf1.dstPort as dport1, nf2.dstPort as dport2, nf3.dstPort as dport3\n",
    "\"\"\"\n",
    "data = run_query(q)\n",
    "print('Number of answers: {:,}'.format(data.num_rows))"
   ]
  },
  {
   "cell_type": "code",
   "execution_count": 10,
   "metadata": {},
   "outputs": [
    {
     "data": {
      "text/html": [
       "<div>\n",
       "<style scoped>\n",
       "    .dataframe tbody tr th:only-of-type {\n",
       "        vertical-align: middle;\n",
       "    }\n",
       "\n",
       "    .dataframe tbody tr th {\n",
       "        vertical-align: top;\n",
       "    }\n",
       "\n",
       "    .dataframe thead th {\n",
       "        text-align: right;\n",
       "    }\n",
       "</style>\n",
       "<table border=\"1\" class=\"dataframe\">\n",
       "  <thead>\n",
       "    <tr style=\"text-align: right;\">\n",
       "      <th></th>\n",
       "      <th>time1</th>\n",
       "      <th>time2</th>\n",
       "      <th>time3</th>\n",
       "      <th>interval</th>\n",
       "      <th>dport1</th>\n",
       "      <th>dport2</th>\n",
       "      <th>dport3</th>\n",
       "    </tr>\n",
       "  </thead>\n",
       "  <tbody>\n",
       "    <tr>\n",
       "      <th>0</th>\n",
       "      <td>134790</td>\n",
       "      <td>134952</td>\n",
       "      <td>137026</td>\n",
       "      <td>2236</td>\n",
       "      <td>443</td>\n",
       "      <td>443</td>\n",
       "      <td>443</td>\n",
       "    </tr>\n",
       "  </tbody>\n",
       "</table>\n",
       "</div>"
      ],
      "text/plain": [
       "    time1   time2   time3  interval  dport1  dport2  dport3\n",
       "0  134790  134952  137026      2236     443     443     443"
      ]
     },
     "execution_count": 10,
     "metadata": {},
     "output_type": "execute_result"
    }
   ],
   "source": [
    "pdata = data.get_data_pandas()\n",
    "pdata"
   ]
  },
  {
   "cell_type": "code",
   "execution_count": null,
   "metadata": {},
   "outputs": [],
   "source": []
  }
 ],
 "metadata": {
  "celltoolbar": "Raw Cell Format",
  "kernelspec": {
   "display_name": "Python 2",
   "language": "python",
   "name": "python2"
  },
  "language_info": {
   "codemirror_mode": {
    "name": "ipython",
    "version": 2
   },
   "file_extension": ".py",
   "mimetype": "text/x-python",
   "name": "python",
   "nbconvert_exporter": "python",
   "pygments_lexer": "ipython2",
   "version": "2.7.16"
  }
 },
 "nbformat": 4,
 "nbformat_minor": 2
}
